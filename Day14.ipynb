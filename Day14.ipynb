{
 "cells": [
  {
   "cell_type": "markdown",
   "id": "5ea4e5a5-5c43-4539-ad3d-0948ab2864f5",
   "metadata": {},
   "source": [
    "# NumPy & Pandas in Python for Data Handling"
   ]
  },
  {
   "cell_type": "markdown",
   "id": "8037e917-1348-4477-8772-30dc379f7e2a",
   "metadata": {},
   "source": [
    "Python lists are slow for numeric tasks\n",
    "\n",
    "NumPy is fast for numerical data\n",
    "\n",
    "Pandas is used for structured/tabular data"
   ]
  },
  {
   "cell_type": "markdown",
   "id": "b6fe284a-9d7c-40d1-8e02-4973c66d1a5c",
   "metadata": {},
   "source": [
    ">pip install numpy pandas"
   ]
  },
  {
   "cell_type": "markdown",
   "id": "8f5add71-e227-472a-9530-b2da9606d3ce",
   "metadata": {},
   "source": [
    "# Numpy"
   ]
  },
  {
   "cell_type": "markdown",
   "id": "162ab0b7-b283-4f36-8719-c113ba56a59e",
   "metadata": {},
   "source": [
    "NumPy ek Python library hai jo fast numerical calculations ke liye use hoti hai.\n",
    "\n",
    "Isme arrays hote hain jo list se zyada efficient aur powerful hote hain.\n",
    "\n",
    "Large datasets ke saath kaam karna easy ho jata hai iske functions ki wajah se.\n",
    "\n",
    "Mathematical operations like addition, multiplication bahut fast hoti hain.\n",
    "\n",
    "Scientific computing ke liye ye backbone jaisi hai Python mein."
   ]
  },
  {
   "cell_type": "code",
   "execution_count": 1,
   "id": "1c5a8426-5425-417d-af03-bf7e1fa2cbf8",
   "metadata": {},
   "outputs": [
    {
     "name": "stdout",
     "output_type": "stream",
     "text": [
      "[1 2 3]\n",
      "[[1 2]\n",
      " [3 4]]\n",
      "int32\n",
      "(2, 2)\n"
     ]
    }
   ],
   "source": [
    "import numpy as np\n",
    "\n",
    "# Creating 1D array\n",
    "arr = np.array([1, 2, 3])\n",
    "print(arr)\n",
    "\n",
    "# Creating 2D array\n",
    "matrix = np.array([[1, 2], [3, 4]])\n",
    "print(matrix)\n",
    "\n",
    "# Data types and shape\n",
    "print(arr.dtype)\n",
    "print(matrix.shape)"
   ]
  },
  {
   "cell_type": "code",
   "execution_count": 2,
   "id": "4f2c723b-35ab-469a-a6f6-24253f2be1df",
   "metadata": {},
   "outputs": [
    {
     "name": "stdout",
     "output_type": "stream",
     "text": [
      "[15 25 35]\n",
      "[20 40 60]\n",
      "[11 22 33]\n",
      "[False  True  True]\n"
     ]
    }
   ],
   "source": [
    "arr = np.array([10, 20, 30])\n",
    "\n",
    "# Scalar operations\n",
    "print(arr + 5)\n",
    "print(arr * 2)\n",
    "\n",
    "# Vectorized operations\n",
    "arr2 = np.array([1, 2, 3])\n",
    "print(arr + arr2)\n",
    "\n",
    "# Logical operations\n",
    "print(arr > 15)\n"
   ]
  },
  {
   "cell_type": "code",
   "execution_count": 3,
   "id": "39b97001-92c2-4434-a23c-8027d10f7609",
   "metadata": {},
   "outputs": [
    {
     "name": "stdout",
     "output_type": "stream",
     "text": [
      "15\n",
      "3.0\n",
      "5\n",
      "1\n",
      "1.4142135623730951\n"
     ]
    }
   ],
   "source": [
    "arr = np.array([1, 2, 3, 4, 5])\n",
    "\n",
    "print(np.sum(arr))\n",
    "print(np.mean(arr))\n",
    "print(np.max(arr))\n",
    "print(np.min(arr))\n",
    "print(np.std(arr))"
   ]
  },
  {
   "cell_type": "code",
   "execution_count": 4,
   "id": "76f3bffb-bcc1-475c-9c57-b08008f1700f",
   "metadata": {},
   "outputs": [
    {
     "name": "stdout",
     "output_type": "stream",
     "text": [
      "[[ 0  1  2  3]\n",
      " [ 4  5  6  7]\n",
      " [ 8  9 10 11]]\n",
      "[0.30788382 0.11705226 0.45309159]\n",
      "[[6 6 4]\n",
      " [8 7 9]]\n"
     ]
    }
   ],
   "source": [
    "# Reshape\n",
    "a = np.arange(12)\n",
    "a = a.reshape((3, 4))\n",
    "print(a)\n",
    "\n",
    "# Random numbers\n",
    "print(np.random.rand(3))\n",
    "print(np.random.randint(1, 10, size=(2, 3)))"
   ]
  },
  {
   "cell_type": "markdown",
   "id": "b3082cf8-5409-472e-8dab-0fe4252cda74",
   "metadata": {},
   "source": [
    "# Pandas"
   ]
  },
  {
   "cell_type": "markdown",
   "id": "6709fb30-b37a-48d5-867b-ca9739986bb0",
   "metadata": {},
   "source": [
    "Pandas ek data manipulation aur analysis library hai Python ke liye.\n",
    "\n",
    "Ye tabular data ko handle karta hai DataFrames ke through—Excel jaise.\n",
    "\n",
    "Missing data, filtering, grouping—sab kuch easily manage hota hai.\n",
    "\n",
    "CSV, Excel, SQL jaise sources se data import/export karna simple hai.\n",
    "\n",
    "Data science projects mein Pandas ek must-have tool hai."
   ]
  },
  {
   "cell_type": "code",
   "execution_count": 5,
   "id": "e5f7e05d-d390-4c4b-94e2-369f8473da9a",
   "metadata": {},
   "outputs": [
    {
     "name": "stdout",
     "output_type": "stream",
     "text": [
      "a    10\n",
      "b    20\n",
      "c    30\n",
      "dtype: int64\n",
      "20\n"
     ]
    }
   ],
   "source": [
    "import pandas as pd\n",
    "\n",
    "data = [10, 20, 30]\n",
    "s = pd.Series(data, index=['a', 'b', 'c'])\n",
    "print(s)\n",
    "\n",
    "# Accessing\n",
    "print(s['b'])"
   ]
  },
  {
   "cell_type": "code",
   "execution_count": 61,
   "id": "3239cb5d-e889-4191-8b16-be1b079f3af7",
   "metadata": {},
   "outputs": [
    {
     "data": {
      "text/html": [
       "<div>\n",
       "<style scoped>\n",
       "    .dataframe tbody tr th:only-of-type {\n",
       "        vertical-align: middle;\n",
       "    }\n",
       "\n",
       "    .dataframe tbody tr th {\n",
       "        vertical-align: top;\n",
       "    }\n",
       "\n",
       "    .dataframe thead th {\n",
       "        text-align: right;\n",
       "    }\n",
       "</style>\n",
       "<table border=\"1\" class=\"dataframe\">\n",
       "  <thead>\n",
       "    <tr style=\"text-align: right;\">\n",
       "      <th></th>\n",
       "      <th>Name</th>\n",
       "      <th>Age</th>\n",
       "      <th>Marks</th>\n",
       "    </tr>\n",
       "  </thead>\n",
       "  <tbody>\n",
       "    <tr>\n",
       "      <th>0</th>\n",
       "      <td>Alice</td>\n",
       "      <td>24</td>\n",
       "      <td>87</td>\n",
       "    </tr>\n",
       "    <tr>\n",
       "      <th>1</th>\n",
       "      <td>Bob</td>\n",
       "      <td>25</td>\n",
       "      <td>91</td>\n",
       "    </tr>\n",
       "    <tr>\n",
       "      <th>2</th>\n",
       "      <td>Charlie</td>\n",
       "      <td>23</td>\n",
       "      <td>78</td>\n",
       "    </tr>\n",
       "  </tbody>\n",
       "</table>\n",
       "</div>"
      ],
      "text/plain": [
       "      Name  Age  Marks\n",
       "0    Alice   24     87\n",
       "1      Bob   25     91\n",
       "2  Charlie   23     78"
      ]
     },
     "execution_count": 61,
     "metadata": {},
     "output_type": "execute_result"
    }
   ],
   "source": [
    "data = {\n",
    "    'Name': ['Alice', 'Bob', 'Charlie'],\n",
    "    'Age': [24, 25, 23],\n",
    "    'Marks': [87, 91, 78]\n",
    "}\n",
    "\n",
    "df = pd.DataFrame(data)\n",
    "df"
   ]
  },
  {
   "cell_type": "code",
   "execution_count": 7,
   "id": "9be9f4df-2892-4d73-bcd4-78821fe0016b",
   "metadata": {},
   "outputs": [
    {
     "name": "stdout",
     "output_type": "stream",
     "text": [
      "        Age      Marks\n",
      "count   3.0   3.000000\n",
      "mean   24.0  85.333333\n",
      "std     1.0   6.658328\n",
      "min    23.0  78.000000\n",
      "25%    23.5  82.500000\n",
      "50%    24.0  87.000000\n",
      "75%    24.5  89.000000\n",
      "max    25.0  91.000000\n",
      "<class 'pandas.core.frame.DataFrame'>\n",
      "RangeIndex: 3 entries, 0 to 2\n",
      "Data columns (total 3 columns):\n",
      " #   Column  Non-Null Count  Dtype \n",
      "---  ------  --------------  ----- \n",
      " 0   Name    3 non-null      object\n",
      " 1   Age     3 non-null      int64 \n",
      " 2   Marks   3 non-null      int64 \n",
      "dtypes: int64(2), object(1)\n",
      "memory usage: 204.0+ bytes\n",
      "None\n",
      "      Name  Age  Marks\n",
      "0    Alice   24     87\n",
      "1      Bob   25     91\n",
      "2  Charlie   23     78\n",
      "      Name  Age  Marks\n",
      "0    Alice   24     87\n",
      "1      Bob   25     91\n",
      "2  Charlie   23     78\n"
     ]
    }
   ],
   "source": [
    "print(df.describe())\n",
    "print(df.info())\n",
    "print(df.head())\n",
    "print(df.tail())\n",
    "\n",
    "# Add column\n",
    "df['Grade'] = ['A', 'A+', 'B']"
   ]
  },
  {
   "cell_type": "code",
   "execution_count": 8,
   "id": "25b55733-8a42-4baf-bc67-f9bddef57d70",
   "metadata": {},
   "outputs": [
    {
     "name": "stdout",
     "output_type": "stream",
     "text": [
      "    Name    Age  Marks  Grade\n",
      "0  False  False  False  False\n",
      "1  False  False   True  False\n",
      "2  False  False  False  False\n"
     ]
    }
   ],
   "source": [
    "# Missing values\n",
    "df['Marks'] = [90, None, 80]\n",
    "print(df.isnull())\n",
    "\n",
    "# Fill NA\n",
    "df.fillna(0, inplace=True)\n"
   ]
  },
  {
   "cell_type": "code",
   "execution_count": 47,
   "id": "c8ad0e7e-0577-48d0-8638-378478a08b15",
   "metadata": {},
   "outputs": [
    {
     "data": {
      "text/html": [
       "<div>\n",
       "<style scoped>\n",
       "    .dataframe tbody tr th:only-of-type {\n",
       "        vertical-align: middle;\n",
       "    }\n",
       "\n",
       "    .dataframe tbody tr th {\n",
       "        vertical-align: top;\n",
       "    }\n",
       "\n",
       "    .dataframe thead th {\n",
       "        text-align: right;\n",
       "    }\n",
       "</style>\n",
       "<table border=\"1\" class=\"dataframe\">\n",
       "  <thead>\n",
       "    <tr style=\"text-align: right;\">\n",
       "      <th></th>\n",
       "      <th>Index</th>\n",
       "      <th>Customer Id</th>\n",
       "      <th>First Name</th>\n",
       "      <th>Last Name</th>\n",
       "      <th>Company</th>\n",
       "      <th>City</th>\n",
       "      <th>Country</th>\n",
       "      <th>Phone 1</th>\n",
       "      <th>Phone 2</th>\n",
       "      <th>Email</th>\n",
       "      <th>Subscription Date</th>\n",
       "      <th>Website</th>\n",
       "    </tr>\n",
       "  </thead>\n",
       "  <tbody>\n",
       "    <tr>\n",
       "      <th>0</th>\n",
       "      <td>1</td>\n",
       "      <td>DD37Cf93aecA6Dc</td>\n",
       "      <td>Sheryl</td>\n",
       "      <td>Baxter</td>\n",
       "      <td>Rasmussen Group</td>\n",
       "      <td>East Leonard</td>\n",
       "      <td>Chile</td>\n",
       "      <td>229.077.5154</td>\n",
       "      <td>397.884.0519x718</td>\n",
       "      <td>zunigavanessa@smith.info</td>\n",
       "      <td>2020-08-24</td>\n",
       "      <td>http://www.stephenson.com/</td>\n",
       "    </tr>\n",
       "    <tr>\n",
       "      <th>1</th>\n",
       "      <td>2</td>\n",
       "      <td>1Ef7b82A4CAAD10</td>\n",
       "      <td>Preston</td>\n",
       "      <td>Lozano</td>\n",
       "      <td>Vega-Gentry</td>\n",
       "      <td>East Jimmychester</td>\n",
       "      <td>Djibouti</td>\n",
       "      <td>5153435776</td>\n",
       "      <td>686-620-1820x944</td>\n",
       "      <td>vmata@colon.com</td>\n",
       "      <td>2021-04-23</td>\n",
       "      <td>http://www.hobbs.com/</td>\n",
       "    </tr>\n",
       "  </tbody>\n",
       "</table>\n",
       "</div>"
      ],
      "text/plain": [
       "   Index      Customer Id First Name Last Name          Company  \\\n",
       "0      1  DD37Cf93aecA6Dc     Sheryl    Baxter  Rasmussen Group   \n",
       "1      2  1Ef7b82A4CAAD10    Preston    Lozano      Vega-Gentry   \n",
       "\n",
       "                City   Country       Phone 1           Phone 2  \\\n",
       "0       East Leonard     Chile  229.077.5154  397.884.0519x718   \n",
       "1  East Jimmychester  Djibouti    5153435776  686-620-1820x944   \n",
       "\n",
       "                      Email Subscription Date                     Website  \n",
       "0  zunigavanessa@smith.info        2020-08-24  http://www.stephenson.com/  \n",
       "1           vmata@colon.com        2021-04-23       http://www.hobbs.com/  "
      ]
     },
     "execution_count": 47,
     "metadata": {},
     "output_type": "execute_result"
    }
   ],
   "source": [
    "df = pd.read_csv(\"Data Sample Storage/customers-100.csv\")\n",
    "df.head(2)"
   ]
  },
  {
   "cell_type": "code",
   "execution_count": 48,
   "id": "ad501880-cbaa-4e1b-8de7-830a4ec66075",
   "metadata": {},
   "outputs": [
    {
     "data": {
      "text/html": [
       "<div>\n",
       "<style scoped>\n",
       "    .dataframe tbody tr th:only-of-type {\n",
       "        vertical-align: middle;\n",
       "    }\n",
       "\n",
       "    .dataframe tbody tr th {\n",
       "        vertical-align: top;\n",
       "    }\n",
       "\n",
       "    .dataframe thead th {\n",
       "        text-align: right;\n",
       "    }\n",
       "</style>\n",
       "<table border=\"1\" class=\"dataframe\">\n",
       "  <thead>\n",
       "    <tr style=\"text-align: right;\">\n",
       "      <th></th>\n",
       "      <th>Index</th>\n",
       "      <th>Customer Id</th>\n",
       "      <th>First Name</th>\n",
       "      <th>Last Name</th>\n",
       "      <th>Company</th>\n",
       "      <th>City</th>\n",
       "      <th>Country</th>\n",
       "      <th>Phone 1</th>\n",
       "      <th>Phone 2</th>\n",
       "      <th>Email</th>\n",
       "      <th>Subscription Date</th>\n",
       "      <th>Website</th>\n",
       "    </tr>\n",
       "  </thead>\n",
       "  <tbody>\n",
       "    <tr>\n",
       "      <th>8</th>\n",
       "      <td>9</td>\n",
       "      <td>C2dE4dEEc489ae0</td>\n",
       "      <td>Sheryl</td>\n",
       "      <td>Meyers</td>\n",
       "      <td>Browning-Simon</td>\n",
       "      <td>Robersonstad</td>\n",
       "      <td>Cyprus</td>\n",
       "      <td>854-138-4911x5772</td>\n",
       "      <td>+1-448-910-2276x729</td>\n",
       "      <td>mariokhan@ryan-pope.org</td>\n",
       "      <td>2020-01-13</td>\n",
       "      <td>https://www.bullock.net/</td>\n",
       "    </tr>\n",
       "    <tr>\n",
       "      <th>9</th>\n",
       "      <td>10</td>\n",
       "      <td>8C2811a503C7c5a</td>\n",
       "      <td>Michelle</td>\n",
       "      <td>Gallagher</td>\n",
       "      <td>Beck-Hendrix</td>\n",
       "      <td>Elaineberg</td>\n",
       "      <td>Timor-Leste</td>\n",
       "      <td>739.218.2516x459</td>\n",
       "      <td>001-054-401-0347x617</td>\n",
       "      <td>mdyer@escobar.net</td>\n",
       "      <td>2021-11-08</td>\n",
       "      <td>https://arias.com/</td>\n",
       "    </tr>\n",
       "    <tr>\n",
       "      <th>10</th>\n",
       "      <td>11</td>\n",
       "      <td>216E205d6eBb815</td>\n",
       "      <td>Carl</td>\n",
       "      <td>Schroeder</td>\n",
       "      <td>Oconnell, Meza and Everett</td>\n",
       "      <td>Shannonville</td>\n",
       "      <td>Guernsey</td>\n",
       "      <td>637-854-0256x825</td>\n",
       "      <td>114.336.0784x788</td>\n",
       "      <td>kirksalas@webb.com</td>\n",
       "      <td>2021-10-20</td>\n",
       "      <td>https://simmons-hurley.com/</td>\n",
       "    </tr>\n",
       "    <tr>\n",
       "      <th>11</th>\n",
       "      <td>12</td>\n",
       "      <td>CEDec94deE6d69B</td>\n",
       "      <td>Jenna</td>\n",
       "      <td>Dodson</td>\n",
       "      <td>Hoffman, Reed and Mcclain</td>\n",
       "      <td>East Andrea</td>\n",
       "      <td>Vietnam</td>\n",
       "      <td>(041)737-3846</td>\n",
       "      <td>+1-556-888-3485x42608</td>\n",
       "      <td>mark42@robbins.com</td>\n",
       "      <td>2020-11-29</td>\n",
       "      <td>http://www.douglas.net/</td>\n",
       "    </tr>\n",
       "    <tr>\n",
       "      <th>12</th>\n",
       "      <td>13</td>\n",
       "      <td>e35426EbDEceaFF</td>\n",
       "      <td>Tracey</td>\n",
       "      <td>Mata</td>\n",
       "      <td>Graham-Francis</td>\n",
       "      <td>South Joannamouth</td>\n",
       "      <td>Togo</td>\n",
       "      <td>001-949-844-8787</td>\n",
       "      <td>(855)713-8773</td>\n",
       "      <td>alex56@walls.org</td>\n",
       "      <td>2021-12-02</td>\n",
       "      <td>http://www.beck.com/</td>\n",
       "    </tr>\n",
       "  </tbody>\n",
       "</table>\n",
       "</div>"
      ],
      "text/plain": [
       "    Index      Customer Id First Name  Last Name                     Company  \\\n",
       "8       9  C2dE4dEEc489ae0     Sheryl     Meyers              Browning-Simon   \n",
       "9      10  8C2811a503C7c5a   Michelle  Gallagher                Beck-Hendrix   \n",
       "10     11  216E205d6eBb815       Carl  Schroeder  Oconnell, Meza and Everett   \n",
       "11     12  CEDec94deE6d69B      Jenna     Dodson   Hoffman, Reed and Mcclain   \n",
       "12     13  e35426EbDEceaFF     Tracey       Mata              Graham-Francis   \n",
       "\n",
       "                 City      Country            Phone 1                Phone 2  \\\n",
       "8        Robersonstad       Cyprus  854-138-4911x5772    +1-448-910-2276x729   \n",
       "9          Elaineberg  Timor-Leste   739.218.2516x459   001-054-401-0347x617   \n",
       "10       Shannonville     Guernsey   637-854-0256x825       114.336.0784x788   \n",
       "11        East Andrea      Vietnam      (041)737-3846  +1-556-888-3485x42608   \n",
       "12  South Joannamouth         Togo   001-949-844-8787          (855)713-8773   \n",
       "\n",
       "                      Email Subscription Date                      Website  \n",
       "8   mariokhan@ryan-pope.org        2020-01-13     https://www.bullock.net/  \n",
       "9         mdyer@escobar.net        2021-11-08           https://arias.com/  \n",
       "10       kirksalas@webb.com        2021-10-20  https://simmons-hurley.com/  \n",
       "11       mark42@robbins.com        2020-11-29      http://www.douglas.net/  \n",
       "12         alex56@walls.org        2021-12-02         http://www.beck.com/  "
      ]
     },
     "execution_count": 48,
     "metadata": {},
     "output_type": "execute_result"
    }
   ],
   "source": [
    "# Filter students with marks > 80\n",
    "df[df['Index'] > 8].head()"
   ]
  },
  {
   "cell_type": "code",
   "execution_count": 49,
   "id": "03cf954e-2de3-4045-8580-c6a9c59a8642",
   "metadata": {},
   "outputs": [
    {
     "data": {
      "text/html": [
       "<div>\n",
       "<style scoped>\n",
       "    .dataframe tbody tr th:only-of-type {\n",
       "        vertical-align: middle;\n",
       "    }\n",
       "\n",
       "    .dataframe tbody tr th {\n",
       "        vertical-align: top;\n",
       "    }\n",
       "\n",
       "    .dataframe thead th {\n",
       "        text-align: right;\n",
       "    }\n",
       "</style>\n",
       "<table border=\"1\" class=\"dataframe\">\n",
       "  <thead>\n",
       "    <tr style=\"text-align: right;\">\n",
       "      <th></th>\n",
       "      <th>Index</th>\n",
       "      <th>Customer Id</th>\n",
       "      <th>First Name</th>\n",
       "      <th>Last Name</th>\n",
       "      <th>Company</th>\n",
       "      <th>City</th>\n",
       "      <th>Country</th>\n",
       "      <th>Phone 1</th>\n",
       "      <th>Phone 2</th>\n",
       "      <th>Email</th>\n",
       "      <th>Subscription Date</th>\n",
       "      <th>Website</th>\n",
       "    </tr>\n",
       "  </thead>\n",
       "  <tbody>\n",
       "    <tr>\n",
       "      <th>95</th>\n",
       "      <td>96</td>\n",
       "      <td>cb8E23e48d22Eae</td>\n",
       "      <td>Karl</td>\n",
       "      <td>Greer</td>\n",
       "      <td>Carey LLC</td>\n",
       "      <td>East Richard</td>\n",
       "      <td>Guyana</td>\n",
       "      <td>(188)169-1674x58692</td>\n",
       "      <td>001-841-293-3519x614</td>\n",
       "      <td>hhart@jensen.com</td>\n",
       "      <td>2022-01-30</td>\n",
       "      <td>http://hayes-perez.com/</td>\n",
       "    </tr>\n",
       "    <tr>\n",
       "      <th>96</th>\n",
       "      <td>97</td>\n",
       "      <td>CeD220bdAaCfaDf</td>\n",
       "      <td>Lynn</td>\n",
       "      <td>Atkinson</td>\n",
       "      <td>Ware, Burns and Oneal</td>\n",
       "      <td>New Bradview</td>\n",
       "      <td>Sri Lanka</td>\n",
       "      <td>+1-846-706-2218</td>\n",
       "      <td>605.413.3198</td>\n",
       "      <td>vkemp@ferrell.com</td>\n",
       "      <td>2021-07-10</td>\n",
       "      <td>https://novak-allison.com/</td>\n",
       "    </tr>\n",
       "    <tr>\n",
       "      <th>97</th>\n",
       "      <td>98</td>\n",
       "      <td>28CDbC0dFe4b1Db</td>\n",
       "      <td>Fred</td>\n",
       "      <td>Guerra</td>\n",
       "      <td>Schmitt-Jones</td>\n",
       "      <td>Ortegaland</td>\n",
       "      <td>Solomon Islands</td>\n",
       "      <td>+1-753-067-8419x7170</td>\n",
       "      <td>+1-632-666-7507x92121</td>\n",
       "      <td>swagner@kane.org</td>\n",
       "      <td>2021-09-18</td>\n",
       "      <td>https://www.ross.com/</td>\n",
       "    </tr>\n",
       "    <tr>\n",
       "      <th>98</th>\n",
       "      <td>99</td>\n",
       "      <td>c23d1D9EE8DEB0A</td>\n",
       "      <td>Yvonne</td>\n",
       "      <td>Farmer</td>\n",
       "      <td>Fitzgerald-Harrell</td>\n",
       "      <td>Lake Elijahview</td>\n",
       "      <td>Aruba</td>\n",
       "      <td>(530)311-9786</td>\n",
       "      <td>001-869-452-0943x12424</td>\n",
       "      <td>mccarthystephen@horn-green.biz</td>\n",
       "      <td>2021-08-11</td>\n",
       "      <td>http://watkins.info/</td>\n",
       "    </tr>\n",
       "    <tr>\n",
       "      <th>99</th>\n",
       "      <td>100</td>\n",
       "      <td>2354a0E336A91A1</td>\n",
       "      <td>Clarence</td>\n",
       "      <td>Haynes</td>\n",
       "      <td>Le, Nash and Cross</td>\n",
       "      <td>Judymouth</td>\n",
       "      <td>Honduras</td>\n",
       "      <td>(753)813-6941</td>\n",
       "      <td>783.639.1472</td>\n",
       "      <td>colleen91@faulkner.biz</td>\n",
       "      <td>2020-03-11</td>\n",
       "      <td>http://www.hatfield-saunders.net/</td>\n",
       "    </tr>\n",
       "  </tbody>\n",
       "</table>\n",
       "</div>"
      ],
      "text/plain": [
       "    Index      Customer Id First Name Last Name                Company  \\\n",
       "95     96  cb8E23e48d22Eae       Karl     Greer              Carey LLC   \n",
       "96     97  CeD220bdAaCfaDf       Lynn  Atkinson  Ware, Burns and Oneal   \n",
       "97     98  28CDbC0dFe4b1Db       Fred    Guerra          Schmitt-Jones   \n",
       "98     99  c23d1D9EE8DEB0A     Yvonne    Farmer     Fitzgerald-Harrell   \n",
       "99    100  2354a0E336A91A1   Clarence    Haynes     Le, Nash and Cross   \n",
       "\n",
       "               City          Country               Phone 1  \\\n",
       "95     East Richard           Guyana   (188)169-1674x58692   \n",
       "96     New Bradview        Sri Lanka       +1-846-706-2218   \n",
       "97       Ortegaland  Solomon Islands  +1-753-067-8419x7170   \n",
       "98  Lake Elijahview            Aruba         (530)311-9786   \n",
       "99        Judymouth         Honduras         (753)813-6941   \n",
       "\n",
       "                   Phone 2                           Email Subscription Date  \\\n",
       "95    001-841-293-3519x614                hhart@jensen.com        2022-01-30   \n",
       "96            605.413.3198               vkemp@ferrell.com        2021-07-10   \n",
       "97   +1-632-666-7507x92121                swagner@kane.org        2021-09-18   \n",
       "98  001-869-452-0943x12424  mccarthystephen@horn-green.biz        2021-08-11   \n",
       "99            783.639.1472          colleen91@faulkner.biz        2020-03-11   \n",
       "\n",
       "                              Website  \n",
       "95            http://hayes-perez.com/  \n",
       "96         https://novak-allison.com/  \n",
       "97              https://www.ross.com/  \n",
       "98               http://watkins.info/  \n",
       "99  http://www.hatfield-saunders.net/  "
      ]
     },
     "execution_count": 49,
     "metadata": {},
     "output_type": "execute_result"
    }
   ],
   "source": [
    "df.tail()"
   ]
  },
  {
   "cell_type": "code",
   "execution_count": 50,
   "id": "5588b6fd-d9eb-401c-b51f-db60262d8f1a",
   "metadata": {},
   "outputs": [
    {
     "data": {
      "text/plain": [
       "Index                100\n",
       "Customer Id          100\n",
       "First Name           100\n",
       "Last Name            100\n",
       "Company              100\n",
       "City                 100\n",
       "Country              100\n",
       "Phone 1              100\n",
       "Phone 2              100\n",
       "Email                100\n",
       "Subscription Date    100\n",
       "Website              100\n",
       "dtype: int64"
      ]
     },
     "execution_count": 50,
     "metadata": {},
     "output_type": "execute_result"
    }
   ],
   "source": [
    "df.count()"
   ]
  },
  {
   "cell_type": "code",
   "execution_count": 51,
   "id": "528ce521-270f-4802-a00a-21b8de06d1b8",
   "metadata": {},
   "outputs": [
    {
     "data": {
      "text/plain": [
       "Index                False\n",
       "Customer Id          False\n",
       "First Name           False\n",
       "Last Name            False\n",
       "Company              False\n",
       "City                 False\n",
       "Country              False\n",
       "Phone 1              False\n",
       "Phone 2              False\n",
       "Email                False\n",
       "Subscription Date    False\n",
       "Website              False\n",
       "dtype: bool"
      ]
     },
     "execution_count": 51,
     "metadata": {},
     "output_type": "execute_result"
    }
   ],
   "source": [
    "df.count().isnull()"
   ]
  },
  {
   "cell_type": "code",
   "execution_count": 60,
   "id": "09b96428-34a0-460e-8401-222898954181",
   "metadata": {},
   "outputs": [
    {
     "name": "stdout",
     "output_type": "stream",
     "text": [
      "0                          Chile\n",
      "1                       Djibouti\n",
      "2            Antigua and Barbuda\n",
      "3             Dominican Republic\n",
      "4     Slovakia (Slovak Republic)\n",
      "                 ...            \n",
      "95                        Guyana\n",
      "96                     Sri Lanka\n",
      "97               Solomon Islands\n",
      "98                         Aruba\n",
      "99                      Honduras\n",
      "Name: Country, Length: 100, dtype: object\n"
     ]
    }
   ],
   "source": [
    "print(df[\"Country\"])"
   ]
  },
  {
   "cell_type": "markdown",
   "id": "0954967f",
   "metadata": {},
   "source": [
    "\n",
    "Question 1: NumPy Program**\n",
    "\n",
    "**Q1:** Write a Python program using NumPy to:\n",
    "\n",
    "* Create a 1D array of values `[5, 10, 15, 20]`\n",
    "* Add `10` to each element\n",
    "* Print the final array\n",
    "\n",
    "**Expected Output:**\n",
    "\n",
    "```\n",
    "[15 20 25 30]\n",
    "```\n",
    "\n",
    "---\n",
    "\n",
    "### ✅ **Question 2: Pandas Program**\n",
    "\n",
    "**Q2:** Write a Python program using Pandas to:\n",
    "\n",
    "* Create a DataFrame with columns: `Name`, `Age`, and `Marks`\n",
    "* Add a new column called `Result` with values `['Pass', 'Pass', 'Fail']`\n",
    "* Print the updated DataFrame\n",
    "\n",
    "**Expected Output:**\n",
    "\n",
    "```\n",
    "     Name  Age  Marks Result\n",
    "0   Alice   24     87   Pass\n",
    "1     Bob   25     91   Pass\n",
    "2  Charlie   23     78   Fail\n",
    "```"
   ]
  },
  {
   "cell_type": "markdown",
   "id": "36c3ff40",
   "metadata": {},
   "source": []
  }
 ],
 "metadata": {
  "kernelspec": {
   "display_name": "Python 3 (ipykernel)",
   "language": "python",
   "name": "python3"
  },
  "language_info": {
   "codemirror_mode": {
    "name": "ipython",
    "version": 3
   },
   "file_extension": ".py",
   "mimetype": "text/x-python",
   "name": "python",
   "nbconvert_exporter": "python",
   "pygments_lexer": "ipython3",
   "version": "3.12.6"
  }
 },
 "nbformat": 4,
 "nbformat_minor": 5
}
