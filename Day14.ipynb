{
 "cells": [
  {
   "cell_type": "markdown",
   "id": "5fddaa31-64dc-4485-a176-5c51754e3190",
   "metadata": {},
   "source": [
    "# Numpy & Pandas"
   ]
  },
  {
   "cell_type": "code",
   "execution_count": 6,
   "id": "336793df-4151-47f1-9276-cdf72c16d35d",
   "metadata": {},
   "outputs": [
    {
     "data": {
      "text/plain": [
       "dtype('int32')"
      ]
     },
     "execution_count": 6,
     "metadata": {},
     "output_type": "execute_result"
    }
   ],
   "source": [
    "import numpy as np\n",
    "# arr = np.array()\n",
    "arr = np.array([1,2,3]) # 1D Array\n",
    "arr.dtype"
   ]
  },
  {
   "cell_type": "code",
   "execution_count": 5,
   "id": "c0e799ce-89e1-4690-a9eb-6463162bdbfe",
   "metadata": {},
   "outputs": [
    {
     "data": {
      "text/plain": [
       "array([[1, 2, 3],\n",
       "       [4, 5, 6]])"
      ]
     },
     "execution_count": 5,
     "metadata": {},
     "output_type": "execute_result"
    }
   ],
   "source": [
    "arr = np.array([[1,2,3],[4,5,6]]) # 2D Array\n",
    "arr"
   ]
  },
  {
   "cell_type": "code",
   "execution_count": 12,
   "id": "085c02ba-fe49-46b7-a2f3-27945fbc3fbe",
   "metadata": {},
   "outputs": [
    {
     "name": "stdout",
     "output_type": "stream",
     "text": [
      "[[1 2 3]\n",
      " [4 5 6]]\n"
     ]
    },
    {
     "data": {
      "text/plain": [
       "(2, 3)"
      ]
     },
     "execution_count": 12,
     "metadata": {},
     "output_type": "execute_result"
    }
   ],
   "source": [
    "arr = np.array([[1,2,3],[4,5,6]]) # 2D Array\n",
    "print(arr)\n",
    "arr.shape"
   ]
  },
  {
   "cell_type": "code",
   "execution_count": 18,
   "id": "1306e19e-e56e-4593-bf95-4793acce8721",
   "metadata": {},
   "outputs": [
    {
     "name": "stdout",
     "output_type": "stream",
     "text": [
      "[3 6 9] multiple\n",
      "[4 5 6] addition\n"
     ]
    }
   ],
   "source": [
    "arr1 = np.array([1,2,3]) # 1D Array\n",
    "print(arr1 *3,\"multiple\")\n",
    "print(arr1 +3,\"addition\")"
   ]
  },
  {
   "cell_type": "code",
   "execution_count": 23,
   "id": "2ce49a6e-b3a9-402c-945d-dacd5fb1e5da",
   "metadata": {},
   "outputs": [],
   "source": [
    "# Vectorized operation\n",
    "arr1 = np.array([1,6,3]) # 1D Array\n",
    "arr2 = np.array([9,5,6])"
   ]
  },
  {
   "cell_type": "code",
   "execution_count": 20,
   "id": "b679a290-e933-4e4d-89f3-673934ad5610",
   "metadata": {},
   "outputs": [
    {
     "name": "stdout",
     "output_type": "stream",
     "text": [
      "[10  7  9]\n"
     ]
    }
   ],
   "source": [
    "print(arr1 + arr2)"
   ]
  },
  {
   "cell_type": "code",
   "execution_count": 21,
   "id": "65d444e4",
   "metadata": {},
   "outputs": [
    {
     "name": "stdout",
     "output_type": "stream",
     "text": [
      "[ 9 10 18]\n"
     ]
    }
   ],
   "source": [
    "print(arr1 * arr2)"
   ]
  },
  {
   "cell_type": "code",
   "execution_count": 25,
   "id": "dd658930-96d0-4ced-bdaf-9124932d2a47",
   "metadata": {},
   "outputs": [
    {
     "name": "stdout",
     "output_type": "stream",
     "text": [
      "[False  True False]\n"
     ]
    }
   ],
   "source": [
    "# Logical operation\n",
    "print(arr1>arr2)"
   ]
  },
  {
   "cell_type": "code",
   "execution_count": 26,
   "id": "2cb409fc-4d32-46fd-ad5e-8b80c7dc4232",
   "metadata": {},
   "outputs": [
    {
     "name": "stdout",
     "output_type": "stream",
     "text": [
      "2304\n"
     ]
    }
   ],
   "source": [
    "arr1 = np.array([1,6,3,23,454,454,576,787]) # 1D Array\n",
    "print(np.sum(arr1))"
   ]
  },
  {
   "cell_type": "code",
   "execution_count": 27,
   "id": "6229f123-3447-4cb7-886a-b0ddd11bea10",
   "metadata": {},
   "outputs": [
    {
     "name": "stdout",
     "output_type": "stream",
     "text": [
      "288.0\n"
     ]
    }
   ],
   "source": [
    "print(np.mean(arr1))"
   ]
  },
  {
   "cell_type": "code",
   "execution_count": 28,
   "id": "1c48fe86-7507-40be-993f-0a17ebe417b2",
   "metadata": {},
   "outputs": [
    {
     "name": "stdout",
     "output_type": "stream",
     "text": [
      "787\n"
     ]
    }
   ],
   "source": [
    "print(np.max(arr1))"
   ]
  },
  {
   "cell_type": "code",
   "execution_count": 29,
   "id": "0cba6d4f-75a7-457e-85b2-834449615553",
   "metadata": {},
   "outputs": [
    {
     "name": "stdout",
     "output_type": "stream",
     "text": [
      "1\n"
     ]
    }
   ],
   "source": [
    "print(np.min(arr1))"
   ]
  },
  {
   "cell_type": "code",
   "execution_count": 30,
   "id": "15ccdb0c-2679-40b6-bd18-f89376f3d4c9",
   "metadata": {},
   "outputs": [
    {
     "name": "stdout",
     "output_type": "stream",
     "text": [
      "295.8884925102698\n"
     ]
    }
   ],
   "source": [
    "print(np.std(arr1))"
   ]
  },
  {
   "cell_type": "code",
   "execution_count": 50,
   "id": "d8c811cd-fb60-4600-81bf-05b7c8e74a44",
   "metadata": {},
   "outputs": [
    {
     "name": "stdout",
     "output_type": "stream",
     "text": [
      "[[ 0  1  2  3]\n",
      " [ 4  5  6  7]\n",
      " [ 8  9 10 11]\n",
      " [12 13 14 15]]\n"
     ]
    }
   ],
   "source": [
    "a = np.arange(16)\n",
    "a = a.reshape(4,4)\n",
    "print(a)"
   ]
  },
  {
   "cell_type": "code",
   "execution_count": 37,
   "id": "af12268f-78e2-491c-a367-4d20d0a7820b",
   "metadata": {},
   "outputs": [
    {
     "name": "stdout",
     "output_type": "stream",
     "text": [
      "[0.22192089 0.21268438 0.17592748]\n"
     ]
    }
   ],
   "source": [
    "print(np.random.rand(3))"
   ]
  },
  {
   "cell_type": "code",
   "execution_count": 44,
   "id": "f634c124-0e2f-470a-ba3c-f967dbb1782e",
   "metadata": {},
   "outputs": [
    {
     "name": "stdout",
     "output_type": "stream",
     "text": [
      "[[12 39 54 70 55]\n",
      " [94 25 32 86  2]]\n"
     ]
    }
   ],
   "source": [
    "print(np.random.randint(1,100, size = (2,5)))"
   ]
  },
  {
   "cell_type": "markdown",
   "id": "35d4f60a-ceca-4cf6-b154-da548cb8d455",
   "metadata": {},
   "source": [
    "# Pandas"
   ]
  },
  {
   "cell_type": "code",
   "execution_count": 53,
   "id": "3273721b-3376-4771-a6c0-e07dad9a3020",
   "metadata": {},
   "outputs": [],
   "source": [
    "import pandas as pd"
   ]
  },
  {
   "cell_type": "code",
   "execution_count": 69,
   "id": "4ca602b4-871f-4e8d-9164-3613d59b51c3",
   "metadata": {},
   "outputs": [],
   "source": [
    "data = [10,20 ,30]"
   ]
  },
  {
   "cell_type": "code",
   "execution_count": 70,
   "id": "af5b841d-c192-4f35-9def-46a7d0b6d01c",
   "metadata": {},
   "outputs": [],
   "source": [
    "s = pd.Series(data, index=[\"a\",\"b\",\"c\"])"
   ]
  },
  {
   "cell_type": "code",
   "execution_count": 71,
   "id": "ea05f1bc-aae0-4415-a86a-a487ee077cf2",
   "metadata": {},
   "outputs": [
    {
     "data": {
      "text/plain": [
       "a    10\n",
       "b    20\n",
       "c    30\n",
       "dtype: int64"
      ]
     },
     "execution_count": 71,
     "metadata": {},
     "output_type": "execute_result"
    }
   ],
   "source": [
    "s"
   ]
  },
  {
   "cell_type": "code",
   "execution_count": 72,
   "id": "3262ac03-ebb7-465c-be6d-7d3101906210",
   "metadata": {},
   "outputs": [
    {
     "name": "stdout",
     "output_type": "stream",
     "text": [
      "20\n"
     ]
    }
   ],
   "source": [
    "print(s[\"b\"])"
   ]
  },
  {
   "cell_type": "code",
   "execution_count": 73,
   "id": "ff25da20-451c-4454-a72f-5e2bf318ca2d",
   "metadata": {},
   "outputs": [],
   "source": [
    "data = {\n",
    "    \"Name\" : ['Ram', 'Shiv','honey'],\n",
    "    'age': [12,34,45]\n",
    "}"
   ]
  },
  {
   "cell_type": "code",
   "execution_count": 76,
   "id": "5a4b60b5-7a41-4b55-8730-8234a3a2db65",
   "metadata": {},
   "outputs": [
    {
     "data": {
      "text/html": [
       "<div>\n",
       "<style scoped>\n",
       "    .dataframe tbody tr th:only-of-type {\n",
       "        vertical-align: middle;\n",
       "    }\n",
       "\n",
       "    .dataframe tbody tr th {\n",
       "        vertical-align: top;\n",
       "    }\n",
       "\n",
       "    .dataframe thead th {\n",
       "        text-align: right;\n",
       "    }\n",
       "</style>\n",
       "<table border=\"1\" class=\"dataframe\">\n",
       "  <thead>\n",
       "    <tr style=\"text-align: right;\">\n",
       "      <th></th>\n",
       "      <th>Name</th>\n",
       "      <th>age</th>\n",
       "    </tr>\n",
       "  </thead>\n",
       "  <tbody>\n",
       "    <tr>\n",
       "      <th>0</th>\n",
       "      <td>Ram</td>\n",
       "      <td>12</td>\n",
       "    </tr>\n",
       "    <tr>\n",
       "      <th>1</th>\n",
       "      <td>Shiv</td>\n",
       "      <td>34</td>\n",
       "    </tr>\n",
       "    <tr>\n",
       "      <th>2</th>\n",
       "      <td>honey</td>\n",
       "      <td>45</td>\n",
       "    </tr>\n",
       "  </tbody>\n",
       "</table>\n",
       "</div>"
      ],
      "text/plain": [
       "    Name  age\n",
       "0    Ram   12\n",
       "1   Shiv   34\n",
       "2  honey   45"
      ]
     },
     "execution_count": 76,
     "metadata": {},
     "output_type": "execute_result"
    }
   ],
   "source": [
    "df = pd.DataFrame(data)\n",
    "df"
   ]
  },
  {
   "cell_type": "code",
   "execution_count": 77,
   "id": "212f2dff-160a-4573-a827-e444c400ac76",
   "metadata": {},
   "outputs": [
    {
     "name": "stdout",
     "output_type": "stream",
     "text": [
      "<bound method DataFrame.info of     Name  age\n",
      "0    Ram   12\n",
      "1   Shiv   34\n",
      "2  honey   45>\n"
     ]
    }
   ],
   "source": [
    "print(df.info)"
   ]
  },
  {
   "cell_type": "code",
   "execution_count": 80,
   "id": "20eb693c",
   "metadata": {},
   "outputs": [
    {
     "name": "stdout",
     "output_type": "stream",
     "text": [
      "    Name  age\n",
      "0    Ram   12\n",
      "1   Shiv   34\n",
      "2  honey   45\n"
     ]
    }
   ],
   "source": [
    "print(df.head())"
   ]
  },
  {
   "cell_type": "code",
   "execution_count": 82,
   "id": "c5f9b9f0-2d6c-4659-a604-98aff8d9946a",
   "metadata": {},
   "outputs": [
    {
     "name": "stdout",
     "output_type": "stream",
     "text": [
      "<bound method NDFrame.describe of     Name  age\n",
      "0    Ram   12\n",
      "1   Shiv   34\n",
      "2  honey   45>\n"
     ]
    }
   ],
   "source": [
    "print(df.describe)"
   ]
  },
  {
   "cell_type": "code",
   "execution_count": 85,
   "id": "131540c1-8a1c-4aaa-bc9d-77dd5c4b8751",
   "metadata": {},
   "outputs": [],
   "source": [
    "df[\"Grade\"] = [\"A\",\"A+\",\"C\"]"
   ]
  },
  {
   "cell_type": "code",
   "execution_count": 95,
   "id": "700dec78-366b-4c79-8a46-6a2fdf3067b4",
   "metadata": {},
   "outputs": [
    {
     "data": {
      "text/html": [
       "<div>\n",
       "<style scoped>\n",
       "    .dataframe tbody tr th:only-of-type {\n",
       "        vertical-align: middle;\n",
       "    }\n",
       "\n",
       "    .dataframe tbody tr th {\n",
       "        vertical-align: top;\n",
       "    }\n",
       "\n",
       "    .dataframe thead th {\n",
       "        text-align: right;\n",
       "    }\n",
       "</style>\n",
       "<table border=\"1\" class=\"dataframe\">\n",
       "  <thead>\n",
       "    <tr style=\"text-align: right;\">\n",
       "      <th></th>\n",
       "      <th>Name</th>\n",
       "      <th>age</th>\n",
       "      <th>Grade</th>\n",
       "    </tr>\n",
       "  </thead>\n",
       "  <tbody>\n",
       "    <tr>\n",
       "      <th>1</th>\n",
       "      <td>Shiv</td>\n",
       "      <td>34</td>\n",
       "      <td>A+</td>\n",
       "    </tr>\n",
       "    <tr>\n",
       "      <th>2</th>\n",
       "      <td>honey</td>\n",
       "      <td>45</td>\n",
       "      <td>C</td>\n",
       "    </tr>\n",
       "  </tbody>\n",
       "</table>\n",
       "</div>"
      ],
      "text/plain": [
       "    Name  age Grade\n",
       "1   Shiv   34    A+\n",
       "2  honey   45     C"
      ]
     },
     "execution_count": 95,
     "metadata": {},
     "output_type": "execute_result"
    }
   ],
   "source": [
    "df.tail(2)"
   ]
  },
  {
   "cell_type": "code",
   "execution_count": 96,
   "id": "b59446ac-c199-4703-933d-ce4c047b7009",
   "metadata": {},
   "outputs": [
    {
     "data": {
      "text/html": [
       "<div>\n",
       "<style scoped>\n",
       "    .dataframe tbody tr th:only-of-type {\n",
       "        vertical-align: middle;\n",
       "    }\n",
       "\n",
       "    .dataframe tbody tr th {\n",
       "        vertical-align: top;\n",
       "    }\n",
       "\n",
       "    .dataframe thead th {\n",
       "        text-align: right;\n",
       "    }\n",
       "</style>\n",
       "<table border=\"1\" class=\"dataframe\">\n",
       "  <thead>\n",
       "    <tr style=\"text-align: right;\">\n",
       "      <th></th>\n",
       "      <th>Name</th>\n",
       "      <th>age</th>\n",
       "      <th>Grade</th>\n",
       "    </tr>\n",
       "  </thead>\n",
       "  <tbody>\n",
       "    <tr>\n",
       "      <th>0</th>\n",
       "      <td>False</td>\n",
       "      <td>False</td>\n",
       "      <td>False</td>\n",
       "    </tr>\n",
       "    <tr>\n",
       "      <th>1</th>\n",
       "      <td>False</td>\n",
       "      <td>False</td>\n",
       "      <td>False</td>\n",
       "    </tr>\n",
       "    <tr>\n",
       "      <th>2</th>\n",
       "      <td>False</td>\n",
       "      <td>False</td>\n",
       "      <td>False</td>\n",
       "    </tr>\n",
       "  </tbody>\n",
       "</table>\n",
       "</div>"
      ],
      "text/plain": [
       "    Name    age  Grade\n",
       "0  False  False  False\n",
       "1  False  False  False\n",
       "2  False  False  False"
      ]
     },
     "execution_count": 96,
     "metadata": {},
     "output_type": "execute_result"
    }
   ],
   "source": [
    "df.isnull()"
   ]
  },
  {
   "cell_type": "code",
   "execution_count": 97,
   "id": "8fd54a11-7dfd-47cf-92c4-d431d4d9e442",
   "metadata": {},
   "outputs": [],
   "source": [
    "df[\"Marks\"] = [90, None,100 ]"
   ]
  },
  {
   "cell_type": "code",
   "execution_count": 99,
   "id": "3e3e5fac-57b3-4f5d-a852-11203dd36546",
   "metadata": {},
   "outputs": [
    {
     "data": {
      "text/html": [
       "<div>\n",
       "<style scoped>\n",
       "    .dataframe tbody tr th:only-of-type {\n",
       "        vertical-align: middle;\n",
       "    }\n",
       "\n",
       "    .dataframe tbody tr th {\n",
       "        vertical-align: top;\n",
       "    }\n",
       "\n",
       "    .dataframe thead th {\n",
       "        text-align: right;\n",
       "    }\n",
       "</style>\n",
       "<table border=\"1\" class=\"dataframe\">\n",
       "  <thead>\n",
       "    <tr style=\"text-align: right;\">\n",
       "      <th></th>\n",
       "      <th>Name</th>\n",
       "      <th>age</th>\n",
       "      <th>Grade</th>\n",
       "      <th>Marks</th>\n",
       "    </tr>\n",
       "  </thead>\n",
       "  <tbody>\n",
       "    <tr>\n",
       "      <th>0</th>\n",
       "      <td>False</td>\n",
       "      <td>False</td>\n",
       "      <td>False</td>\n",
       "      <td>False</td>\n",
       "    </tr>\n",
       "    <tr>\n",
       "      <th>1</th>\n",
       "      <td>False</td>\n",
       "      <td>False</td>\n",
       "      <td>False</td>\n",
       "      <td>True</td>\n",
       "    </tr>\n",
       "    <tr>\n",
       "      <th>2</th>\n",
       "      <td>False</td>\n",
       "      <td>False</td>\n",
       "      <td>False</td>\n",
       "      <td>False</td>\n",
       "    </tr>\n",
       "  </tbody>\n",
       "</table>\n",
       "</div>"
      ],
      "text/plain": [
       "    Name    age  Grade  Marks\n",
       "0  False  False  False  False\n",
       "1  False  False  False   True\n",
       "2  False  False  False  False"
      ]
     },
     "execution_count": 99,
     "metadata": {},
     "output_type": "execute_result"
    }
   ],
   "source": [
    "df.isnull()"
   ]
  },
  {
   "cell_type": "code",
   "execution_count": 108,
   "id": "582ba7fc-2e43-43b7-a8b9-4d532977c7d6",
   "metadata": {},
   "outputs": [],
   "source": [
    "df = df.fillna(56, inplace = False)"
   ]
  },
  {
   "cell_type": "code",
   "execution_count": 109,
   "id": "ceeae9c3-c8b6-438f-b5c8-f20e636a4504",
   "metadata": {},
   "outputs": [
    {
     "data": {
      "text/html": [
       "<div>\n",
       "<style scoped>\n",
       "    .dataframe tbody tr th:only-of-type {\n",
       "        vertical-align: middle;\n",
       "    }\n",
       "\n",
       "    .dataframe tbody tr th {\n",
       "        vertical-align: top;\n",
       "    }\n",
       "\n",
       "    .dataframe thead th {\n",
       "        text-align: right;\n",
       "    }\n",
       "</style>\n",
       "<table border=\"1\" class=\"dataframe\">\n",
       "  <thead>\n",
       "    <tr style=\"text-align: right;\">\n",
       "      <th></th>\n",
       "      <th>Name</th>\n",
       "      <th>age</th>\n",
       "      <th>Grade</th>\n",
       "      <th>Marks</th>\n",
       "    </tr>\n",
       "  </thead>\n",
       "  <tbody>\n",
       "    <tr>\n",
       "      <th>0</th>\n",
       "      <td>Ram</td>\n",
       "      <td>12</td>\n",
       "      <td>A</td>\n",
       "      <td>90.0</td>\n",
       "    </tr>\n",
       "    <tr>\n",
       "      <th>1</th>\n",
       "      <td>Shiv</td>\n",
       "      <td>34</td>\n",
       "      <td>A+</td>\n",
       "      <td>56.0</td>\n",
       "    </tr>\n",
       "    <tr>\n",
       "      <th>2</th>\n",
       "      <td>honey</td>\n",
       "      <td>45</td>\n",
       "      <td>C</td>\n",
       "      <td>100.0</td>\n",
       "    </tr>\n",
       "  </tbody>\n",
       "</table>\n",
       "</div>"
      ],
      "text/plain": [
       "    Name  age Grade  Marks\n",
       "0    Ram   12     A   90.0\n",
       "1   Shiv   34    A+   56.0\n",
       "2  honey   45     C  100.0"
      ]
     },
     "execution_count": 109,
     "metadata": {},
     "output_type": "execute_result"
    }
   ],
   "source": [
    "df"
   ]
  },
  {
   "cell_type": "code",
   "execution_count": 118,
   "id": "bf5fd546-0aa8-4230-8fcb-1a992d02e567",
   "metadata": {},
   "outputs": [
    {
     "data": {
      "text/html": [
       "<div>\n",
       "<style scoped>\n",
       "    .dataframe tbody tr th:only-of-type {\n",
       "        vertical-align: middle;\n",
       "    }\n",
       "\n",
       "    .dataframe tbody tr th {\n",
       "        vertical-align: top;\n",
       "    }\n",
       "\n",
       "    .dataframe thead th {\n",
       "        text-align: right;\n",
       "    }\n",
       "</style>\n",
       "<table border=\"1\" class=\"dataframe\">\n",
       "  <thead>\n",
       "    <tr style=\"text-align: right;\">\n",
       "      <th></th>\n",
       "      <th>Index</th>\n",
       "      <th>Customer Id</th>\n",
       "      <th>First Name</th>\n",
       "      <th>Last Name</th>\n",
       "      <th>Company</th>\n",
       "      <th>City</th>\n",
       "      <th>Country</th>\n",
       "      <th>Phone 1</th>\n",
       "      <th>Phone 2</th>\n",
       "      <th>Email</th>\n",
       "      <th>Subscription Date</th>\n",
       "      <th>Website</th>\n",
       "    </tr>\n",
       "  </thead>\n",
       "  <tbody>\n",
       "    <tr>\n",
       "      <th>98</th>\n",
       "      <td>99</td>\n",
       "      <td>c23d1D9EE8DEB0A</td>\n",
       "      <td>Yvonne</td>\n",
       "      <td>Farmer</td>\n",
       "      <td>Fitzgerald-Harrell</td>\n",
       "      <td>Lake Elijahview</td>\n",
       "      <td>Aruba</td>\n",
       "      <td>(530)311-9786</td>\n",
       "      <td>001-869-452-0943x12424</td>\n",
       "      <td>mccarthystephen@horn-green.biz</td>\n",
       "      <td>2021-08-11</td>\n",
       "      <td>http://watkins.info/</td>\n",
       "    </tr>\n",
       "    <tr>\n",
       "      <th>99</th>\n",
       "      <td>100</td>\n",
       "      <td>2354a0E336A91A1</td>\n",
       "      <td>Clarence</td>\n",
       "      <td>Haynes</td>\n",
       "      <td>Le, Nash and Cross</td>\n",
       "      <td>Judymouth</td>\n",
       "      <td>Honduras</td>\n",
       "      <td>(753)813-6941</td>\n",
       "      <td>783.639.1472</td>\n",
       "      <td>colleen91@faulkner.biz</td>\n",
       "      <td>2020-03-11</td>\n",
       "      <td>http://www.hatfield-saunders.net/</td>\n",
       "    </tr>\n",
       "  </tbody>\n",
       "</table>\n",
       "</div>"
      ],
      "text/plain": [
       "    Index      Customer Id First Name Last Name             Company  \\\n",
       "98     99  c23d1D9EE8DEB0A     Yvonne    Farmer  Fitzgerald-Harrell   \n",
       "99    100  2354a0E336A91A1   Clarence    Haynes  Le, Nash and Cross   \n",
       "\n",
       "               City   Country        Phone 1                 Phone 2  \\\n",
       "98  Lake Elijahview     Aruba  (530)311-9786  001-869-452-0943x12424   \n",
       "99        Judymouth  Honduras  (753)813-6941            783.639.1472   \n",
       "\n",
       "                             Email Subscription Date  \\\n",
       "98  mccarthystephen@horn-green.biz        2021-08-11   \n",
       "99          colleen91@faulkner.biz        2020-03-11   \n",
       "\n",
       "                              Website  \n",
       "98               http://watkins.info/  \n",
       "99  http://www.hatfield-saunders.net/  "
      ]
     },
     "execution_count": 118,
     "metadata": {},
     "output_type": "execute_result"
    }
   ],
   "source": [
    "df = pd.read_csv(\"Sample DataSet/customers-100.csv\")\n",
    "df.tail(2)"
   ]
  },
  {
   "cell_type": "code",
   "execution_count": 123,
   "id": "05b59ec9-c69d-4682-94d8-ac89ab15a7da",
   "metadata": {},
   "outputs": [
    {
     "data": {
      "text/html": [
       "<div>\n",
       "<style scoped>\n",
       "    .dataframe tbody tr th:only-of-type {\n",
       "        vertical-align: middle;\n",
       "    }\n",
       "\n",
       "    .dataframe tbody tr th {\n",
       "        vertical-align: top;\n",
       "    }\n",
       "\n",
       "    .dataframe thead th {\n",
       "        text-align: right;\n",
       "    }\n",
       "</style>\n",
       "<table border=\"1\" class=\"dataframe\">\n",
       "  <thead>\n",
       "    <tr style=\"text-align: right;\">\n",
       "      <th></th>\n",
       "      <th>Index</th>\n",
       "      <th>Customer Id</th>\n",
       "      <th>First Name</th>\n",
       "      <th>Last Name</th>\n",
       "      <th>Company</th>\n",
       "      <th>City</th>\n",
       "      <th>Country</th>\n",
       "      <th>Phone 1</th>\n",
       "      <th>Phone 2</th>\n",
       "      <th>Email</th>\n",
       "      <th>Subscription Date</th>\n",
       "      <th>Website</th>\n",
       "    </tr>\n",
       "  </thead>\n",
       "  <tbody>\n",
       "    <tr>\n",
       "      <th>8</th>\n",
       "      <td>9</td>\n",
       "      <td>C2dE4dEEc489ae0</td>\n",
       "      <td>Sheryl</td>\n",
       "      <td>Meyers</td>\n",
       "      <td>Browning-Simon</td>\n",
       "      <td>Robersonstad</td>\n",
       "      <td>Cyprus</td>\n",
       "      <td>854-138-4911x5772</td>\n",
       "      <td>+1-448-910-2276x729</td>\n",
       "      <td>mariokhan@ryan-pope.org</td>\n",
       "      <td>2020-01-13</td>\n",
       "      <td>https://www.bullock.net/</td>\n",
       "    </tr>\n",
       "    <tr>\n",
       "      <th>9</th>\n",
       "      <td>10</td>\n",
       "      <td>8C2811a503C7c5a</td>\n",
       "      <td>Michelle</td>\n",
       "      <td>Gallagher</td>\n",
       "      <td>Beck-Hendrix</td>\n",
       "      <td>Elaineberg</td>\n",
       "      <td>Timor-Leste</td>\n",
       "      <td>739.218.2516x459</td>\n",
       "      <td>001-054-401-0347x617</td>\n",
       "      <td>mdyer@escobar.net</td>\n",
       "      <td>2021-11-08</td>\n",
       "      <td>https://arias.com/</td>\n",
       "    </tr>\n",
       "    <tr>\n",
       "      <th>10</th>\n",
       "      <td>11</td>\n",
       "      <td>216E205d6eBb815</td>\n",
       "      <td>Carl</td>\n",
       "      <td>Schroeder</td>\n",
       "      <td>Oconnell, Meza and Everett</td>\n",
       "      <td>Shannonville</td>\n",
       "      <td>Guernsey</td>\n",
       "      <td>637-854-0256x825</td>\n",
       "      <td>114.336.0784x788</td>\n",
       "      <td>kirksalas@webb.com</td>\n",
       "      <td>2021-10-20</td>\n",
       "      <td>https://simmons-hurley.com/</td>\n",
       "    </tr>\n",
       "    <tr>\n",
       "      <th>11</th>\n",
       "      <td>12</td>\n",
       "      <td>CEDec94deE6d69B</td>\n",
       "      <td>Jenna</td>\n",
       "      <td>Dodson</td>\n",
       "      <td>Hoffman, Reed and Mcclain</td>\n",
       "      <td>East Andrea</td>\n",
       "      <td>Vietnam</td>\n",
       "      <td>(041)737-3846</td>\n",
       "      <td>+1-556-888-3485x42608</td>\n",
       "      <td>mark42@robbins.com</td>\n",
       "      <td>2020-11-29</td>\n",
       "      <td>http://www.douglas.net/</td>\n",
       "    </tr>\n",
       "    <tr>\n",
       "      <th>12</th>\n",
       "      <td>13</td>\n",
       "      <td>e35426EbDEceaFF</td>\n",
       "      <td>Tracey</td>\n",
       "      <td>Mata</td>\n",
       "      <td>Graham-Francis</td>\n",
       "      <td>South Joannamouth</td>\n",
       "      <td>Togo</td>\n",
       "      <td>001-949-844-8787</td>\n",
       "      <td>(855)713-8773</td>\n",
       "      <td>alex56@walls.org</td>\n",
       "      <td>2021-12-02</td>\n",
       "      <td>http://www.beck.com/</td>\n",
       "    </tr>\n",
       "    <tr>\n",
       "      <th>...</th>\n",
       "      <td>...</td>\n",
       "      <td>...</td>\n",
       "      <td>...</td>\n",
       "      <td>...</td>\n",
       "      <td>...</td>\n",
       "      <td>...</td>\n",
       "      <td>...</td>\n",
       "      <td>...</td>\n",
       "      <td>...</td>\n",
       "      <td>...</td>\n",
       "      <td>...</td>\n",
       "      <td>...</td>\n",
       "    </tr>\n",
       "    <tr>\n",
       "      <th>95</th>\n",
       "      <td>96</td>\n",
       "      <td>cb8E23e48d22Eae</td>\n",
       "      <td>Karl</td>\n",
       "      <td>Greer</td>\n",
       "      <td>Carey LLC</td>\n",
       "      <td>East Richard</td>\n",
       "      <td>Guyana</td>\n",
       "      <td>(188)169-1674x58692</td>\n",
       "      <td>001-841-293-3519x614</td>\n",
       "      <td>hhart@jensen.com</td>\n",
       "      <td>2022-01-30</td>\n",
       "      <td>http://hayes-perez.com/</td>\n",
       "    </tr>\n",
       "    <tr>\n",
       "      <th>96</th>\n",
       "      <td>97</td>\n",
       "      <td>CeD220bdAaCfaDf</td>\n",
       "      <td>Lynn</td>\n",
       "      <td>Atkinson</td>\n",
       "      <td>Ware, Burns and Oneal</td>\n",
       "      <td>New Bradview</td>\n",
       "      <td>Sri Lanka</td>\n",
       "      <td>+1-846-706-2218</td>\n",
       "      <td>605.413.3198</td>\n",
       "      <td>vkemp@ferrell.com</td>\n",
       "      <td>2021-07-10</td>\n",
       "      <td>https://novak-allison.com/</td>\n",
       "    </tr>\n",
       "    <tr>\n",
       "      <th>97</th>\n",
       "      <td>98</td>\n",
       "      <td>28CDbC0dFe4b1Db</td>\n",
       "      <td>Fred</td>\n",
       "      <td>Guerra</td>\n",
       "      <td>Schmitt-Jones</td>\n",
       "      <td>Ortegaland</td>\n",
       "      <td>Solomon Islands</td>\n",
       "      <td>+1-753-067-8419x7170</td>\n",
       "      <td>+1-632-666-7507x92121</td>\n",
       "      <td>swagner@kane.org</td>\n",
       "      <td>2021-09-18</td>\n",
       "      <td>https://www.ross.com/</td>\n",
       "    </tr>\n",
       "    <tr>\n",
       "      <th>98</th>\n",
       "      <td>99</td>\n",
       "      <td>c23d1D9EE8DEB0A</td>\n",
       "      <td>Yvonne</td>\n",
       "      <td>Farmer</td>\n",
       "      <td>Fitzgerald-Harrell</td>\n",
       "      <td>Lake Elijahview</td>\n",
       "      <td>Aruba</td>\n",
       "      <td>(530)311-9786</td>\n",
       "      <td>001-869-452-0943x12424</td>\n",
       "      <td>mccarthystephen@horn-green.biz</td>\n",
       "      <td>2021-08-11</td>\n",
       "      <td>http://watkins.info/</td>\n",
       "    </tr>\n",
       "    <tr>\n",
       "      <th>99</th>\n",
       "      <td>100</td>\n",
       "      <td>2354a0E336A91A1</td>\n",
       "      <td>Clarence</td>\n",
       "      <td>Haynes</td>\n",
       "      <td>Le, Nash and Cross</td>\n",
       "      <td>Judymouth</td>\n",
       "      <td>Honduras</td>\n",
       "      <td>(753)813-6941</td>\n",
       "      <td>783.639.1472</td>\n",
       "      <td>colleen91@faulkner.biz</td>\n",
       "      <td>2020-03-11</td>\n",
       "      <td>http://www.hatfield-saunders.net/</td>\n",
       "    </tr>\n",
       "  </tbody>\n",
       "</table>\n",
       "<p>92 rows × 12 columns</p>\n",
       "</div>"
      ],
      "text/plain": [
       "    Index      Customer Id First Name  Last Name                     Company  \\\n",
       "8       9  C2dE4dEEc489ae0     Sheryl     Meyers              Browning-Simon   \n",
       "9      10  8C2811a503C7c5a   Michelle  Gallagher                Beck-Hendrix   \n",
       "10     11  216E205d6eBb815       Carl  Schroeder  Oconnell, Meza and Everett   \n",
       "11     12  CEDec94deE6d69B      Jenna     Dodson   Hoffman, Reed and Mcclain   \n",
       "12     13  e35426EbDEceaFF     Tracey       Mata              Graham-Francis   \n",
       "..    ...              ...        ...        ...                         ...   \n",
       "95     96  cb8E23e48d22Eae       Karl      Greer                   Carey LLC   \n",
       "96     97  CeD220bdAaCfaDf       Lynn   Atkinson       Ware, Burns and Oneal   \n",
       "97     98  28CDbC0dFe4b1Db       Fred     Guerra               Schmitt-Jones   \n",
       "98     99  c23d1D9EE8DEB0A     Yvonne     Farmer          Fitzgerald-Harrell   \n",
       "99    100  2354a0E336A91A1   Clarence     Haynes          Le, Nash and Cross   \n",
       "\n",
       "                 City          Country               Phone 1  \\\n",
       "8        Robersonstad           Cyprus     854-138-4911x5772   \n",
       "9          Elaineberg      Timor-Leste      739.218.2516x459   \n",
       "10       Shannonville         Guernsey      637-854-0256x825   \n",
       "11        East Andrea          Vietnam         (041)737-3846   \n",
       "12  South Joannamouth             Togo      001-949-844-8787   \n",
       "..                ...              ...                   ...   \n",
       "95       East Richard           Guyana   (188)169-1674x58692   \n",
       "96       New Bradview        Sri Lanka       +1-846-706-2218   \n",
       "97         Ortegaland  Solomon Islands  +1-753-067-8419x7170   \n",
       "98    Lake Elijahview            Aruba         (530)311-9786   \n",
       "99          Judymouth         Honduras         (753)813-6941   \n",
       "\n",
       "                   Phone 2                           Email Subscription Date  \\\n",
       "8      +1-448-910-2276x729         mariokhan@ryan-pope.org        2020-01-13   \n",
       "9     001-054-401-0347x617               mdyer@escobar.net        2021-11-08   \n",
       "10        114.336.0784x788              kirksalas@webb.com        2021-10-20   \n",
       "11   +1-556-888-3485x42608              mark42@robbins.com        2020-11-29   \n",
       "12           (855)713-8773                alex56@walls.org        2021-12-02   \n",
       "..                     ...                             ...               ...   \n",
       "95    001-841-293-3519x614                hhart@jensen.com        2022-01-30   \n",
       "96            605.413.3198               vkemp@ferrell.com        2021-07-10   \n",
       "97   +1-632-666-7507x92121                swagner@kane.org        2021-09-18   \n",
       "98  001-869-452-0943x12424  mccarthystephen@horn-green.biz        2021-08-11   \n",
       "99            783.639.1472          colleen91@faulkner.biz        2020-03-11   \n",
       "\n",
       "                              Website  \n",
       "8            https://www.bullock.net/  \n",
       "9                  https://arias.com/  \n",
       "10        https://simmons-hurley.com/  \n",
       "11            http://www.douglas.net/  \n",
       "12               http://www.beck.com/  \n",
       "..                                ...  \n",
       "95            http://hayes-perez.com/  \n",
       "96         https://novak-allison.com/  \n",
       "97              https://www.ross.com/  \n",
       "98               http://watkins.info/  \n",
       "99  http://www.hatfield-saunders.net/  \n",
       "\n",
       "[92 rows x 12 columns]"
      ]
     },
     "execution_count": 123,
     "metadata": {},
     "output_type": "execute_result"
    }
   ],
   "source": [
    "df[df[\"Index\"] > 8]"
   ]
  },
  {
   "cell_type": "code",
   "execution_count": 126,
   "id": "e936de91-774f-4b24-9b4b-81d689ae98b7",
   "metadata": {},
   "outputs": [
    {
     "data": {
      "text/html": [
       "<div>\n",
       "<style scoped>\n",
       "    .dataframe tbody tr th:only-of-type {\n",
       "        vertical-align: middle;\n",
       "    }\n",
       "\n",
       "    .dataframe tbody tr th {\n",
       "        vertical-align: top;\n",
       "    }\n",
       "\n",
       "    .dataframe thead th {\n",
       "        text-align: right;\n",
       "    }\n",
       "</style>\n",
       "<table border=\"1\" class=\"dataframe\">\n",
       "  <thead>\n",
       "    <tr style=\"text-align: right;\">\n",
       "      <th></th>\n",
       "      <th>Index</th>\n",
       "      <th>Customer Id</th>\n",
       "      <th>First Name</th>\n",
       "      <th>Last Name</th>\n",
       "      <th>Company</th>\n",
       "      <th>City</th>\n",
       "      <th>Country</th>\n",
       "      <th>Phone 1</th>\n",
       "      <th>Phone 2</th>\n",
       "      <th>Email</th>\n",
       "      <th>Subscription Date</th>\n",
       "      <th>Website</th>\n",
       "    </tr>\n",
       "  </thead>\n",
       "  <tbody>\n",
       "    <tr>\n",
       "      <th>90</th>\n",
       "      <td>91</td>\n",
       "      <td>5ef6d3eefdD43bE</td>\n",
       "      <td>Nina</td>\n",
       "      <td>Chavez</td>\n",
       "      <td>Byrd-Campbell</td>\n",
       "      <td>Cassidychester</td>\n",
       "      <td>Bhutan</td>\n",
       "      <td>053-344-3205</td>\n",
       "      <td>+1-330-920-5422x571</td>\n",
       "      <td>elliserica@frank.com</td>\n",
       "      <td>2020-03-26</td>\n",
       "      <td>https://www.pugh.com/</td>\n",
       "    </tr>\n",
       "    <tr>\n",
       "      <th>91</th>\n",
       "      <td>92</td>\n",
       "      <td>98b3aeDcC3B9FF3</td>\n",
       "      <td>Shane</td>\n",
       "      <td>Foley</td>\n",
       "      <td>Rocha-Hart</td>\n",
       "      <td>South Dannymouth</td>\n",
       "      <td>Hungary</td>\n",
       "      <td>+1-822-569-0302</td>\n",
       "      <td>001-626-114-5844x55073</td>\n",
       "      <td>nsteele@sparks.com</td>\n",
       "      <td>2021-07-06</td>\n",
       "      <td>https://www.holt-sparks.com/</td>\n",
       "    </tr>\n",
       "    <tr>\n",
       "      <th>92</th>\n",
       "      <td>93</td>\n",
       "      <td>aAb6AFc7AfD0fF3</td>\n",
       "      <td>Collin</td>\n",
       "      <td>Ayers</td>\n",
       "      <td>Lamb-Peterson</td>\n",
       "      <td>South Lonnie</td>\n",
       "      <td>Anguilla</td>\n",
       "      <td>404-645-5351x012</td>\n",
       "      <td>001-257-582-8850x8516</td>\n",
       "      <td>dudleyemily@gonzales.biz</td>\n",
       "      <td>2021-06-29</td>\n",
       "      <td>http://www.ruiz.com/</td>\n",
       "    </tr>\n",
       "    <tr>\n",
       "      <th>93</th>\n",
       "      <td>94</td>\n",
       "      <td>54B5B5Fe9F1B6C5</td>\n",
       "      <td>Sherry</td>\n",
       "      <td>Young</td>\n",
       "      <td>Lee, Lucero and Johnson</td>\n",
       "      <td>Frankchester</td>\n",
       "      <td>Solomon Islands</td>\n",
       "      <td>158-687-1764</td>\n",
       "      <td>(438)375-6207x003</td>\n",
       "      <td>alan79@gates-mclaughlin.com</td>\n",
       "      <td>2021-04-04</td>\n",
       "      <td>https://travis.net/</td>\n",
       "    </tr>\n",
       "    <tr>\n",
       "      <th>94</th>\n",
       "      <td>95</td>\n",
       "      <td>BE91A0bdcA49Bbc</td>\n",
       "      <td>Darrell</td>\n",
       "      <td>Douglas</td>\n",
       "      <td>Newton, Petersen and Mathis</td>\n",
       "      <td>Daisyborough</td>\n",
       "      <td>Mali</td>\n",
       "      <td>001-084-845-9524x1777</td>\n",
       "      <td>001-769-564-6303</td>\n",
       "      <td>grayjean@lowery-good.com</td>\n",
       "      <td>2022-02-17</td>\n",
       "      <td>https://banks.biz/</td>\n",
       "    </tr>\n",
       "    <tr>\n",
       "      <th>95</th>\n",
       "      <td>96</td>\n",
       "      <td>cb8E23e48d22Eae</td>\n",
       "      <td>Karl</td>\n",
       "      <td>Greer</td>\n",
       "      <td>Carey LLC</td>\n",
       "      <td>East Richard</td>\n",
       "      <td>Guyana</td>\n",
       "      <td>(188)169-1674x58692</td>\n",
       "      <td>001-841-293-3519x614</td>\n",
       "      <td>hhart@jensen.com</td>\n",
       "      <td>2022-01-30</td>\n",
       "      <td>http://hayes-perez.com/</td>\n",
       "    </tr>\n",
       "    <tr>\n",
       "      <th>96</th>\n",
       "      <td>97</td>\n",
       "      <td>CeD220bdAaCfaDf</td>\n",
       "      <td>Lynn</td>\n",
       "      <td>Atkinson</td>\n",
       "      <td>Ware, Burns and Oneal</td>\n",
       "      <td>New Bradview</td>\n",
       "      <td>Sri Lanka</td>\n",
       "      <td>+1-846-706-2218</td>\n",
       "      <td>605.413.3198</td>\n",
       "      <td>vkemp@ferrell.com</td>\n",
       "      <td>2021-07-10</td>\n",
       "      <td>https://novak-allison.com/</td>\n",
       "    </tr>\n",
       "    <tr>\n",
       "      <th>97</th>\n",
       "      <td>98</td>\n",
       "      <td>28CDbC0dFe4b1Db</td>\n",
       "      <td>Fred</td>\n",
       "      <td>Guerra</td>\n",
       "      <td>Schmitt-Jones</td>\n",
       "      <td>Ortegaland</td>\n",
       "      <td>Solomon Islands</td>\n",
       "      <td>+1-753-067-8419x7170</td>\n",
       "      <td>+1-632-666-7507x92121</td>\n",
       "      <td>swagner@kane.org</td>\n",
       "      <td>2021-09-18</td>\n",
       "      <td>https://www.ross.com/</td>\n",
       "    </tr>\n",
       "    <tr>\n",
       "      <th>98</th>\n",
       "      <td>99</td>\n",
       "      <td>c23d1D9EE8DEB0A</td>\n",
       "      <td>Yvonne</td>\n",
       "      <td>Farmer</td>\n",
       "      <td>Fitzgerald-Harrell</td>\n",
       "      <td>Lake Elijahview</td>\n",
       "      <td>Aruba</td>\n",
       "      <td>(530)311-9786</td>\n",
       "      <td>001-869-452-0943x12424</td>\n",
       "      <td>mccarthystephen@horn-green.biz</td>\n",
       "      <td>2021-08-11</td>\n",
       "      <td>http://watkins.info/</td>\n",
       "    </tr>\n",
       "    <tr>\n",
       "      <th>99</th>\n",
       "      <td>100</td>\n",
       "      <td>2354a0E336A91A1</td>\n",
       "      <td>Clarence</td>\n",
       "      <td>Haynes</td>\n",
       "      <td>Le, Nash and Cross</td>\n",
       "      <td>Judymouth</td>\n",
       "      <td>Honduras</td>\n",
       "      <td>(753)813-6941</td>\n",
       "      <td>783.639.1472</td>\n",
       "      <td>colleen91@faulkner.biz</td>\n",
       "      <td>2020-03-11</td>\n",
       "      <td>http://www.hatfield-saunders.net/</td>\n",
       "    </tr>\n",
       "  </tbody>\n",
       "</table>\n",
       "</div>"
      ],
      "text/plain": [
       "    Index      Customer Id First Name Last Name                      Company  \\\n",
       "90     91  5ef6d3eefdD43bE       Nina    Chavez                Byrd-Campbell   \n",
       "91     92  98b3aeDcC3B9FF3      Shane     Foley                   Rocha-Hart   \n",
       "92     93  aAb6AFc7AfD0fF3     Collin     Ayers                Lamb-Peterson   \n",
       "93     94  54B5B5Fe9F1B6C5     Sherry     Young      Lee, Lucero and Johnson   \n",
       "94     95  BE91A0bdcA49Bbc    Darrell   Douglas  Newton, Petersen and Mathis   \n",
       "95     96  cb8E23e48d22Eae       Karl     Greer                    Carey LLC   \n",
       "96     97  CeD220bdAaCfaDf       Lynn  Atkinson        Ware, Burns and Oneal   \n",
       "97     98  28CDbC0dFe4b1Db       Fred    Guerra                Schmitt-Jones   \n",
       "98     99  c23d1D9EE8DEB0A     Yvonne    Farmer           Fitzgerald-Harrell   \n",
       "99    100  2354a0E336A91A1   Clarence    Haynes           Le, Nash and Cross   \n",
       "\n",
       "                City          Country                Phone 1  \\\n",
       "90    Cassidychester           Bhutan           053-344-3205   \n",
       "91  South Dannymouth          Hungary        +1-822-569-0302   \n",
       "92      South Lonnie         Anguilla       404-645-5351x012   \n",
       "93      Frankchester  Solomon Islands           158-687-1764   \n",
       "94      Daisyborough             Mali  001-084-845-9524x1777   \n",
       "95      East Richard           Guyana    (188)169-1674x58692   \n",
       "96      New Bradview        Sri Lanka        +1-846-706-2218   \n",
       "97        Ortegaland  Solomon Islands   +1-753-067-8419x7170   \n",
       "98   Lake Elijahview            Aruba          (530)311-9786   \n",
       "99         Judymouth         Honduras          (753)813-6941   \n",
       "\n",
       "                   Phone 2                           Email Subscription Date  \\\n",
       "90     +1-330-920-5422x571            elliserica@frank.com        2020-03-26   \n",
       "91  001-626-114-5844x55073              nsteele@sparks.com        2021-07-06   \n",
       "92   001-257-582-8850x8516        dudleyemily@gonzales.biz        2021-06-29   \n",
       "93       (438)375-6207x003     alan79@gates-mclaughlin.com        2021-04-04   \n",
       "94        001-769-564-6303        grayjean@lowery-good.com        2022-02-17   \n",
       "95    001-841-293-3519x614                hhart@jensen.com        2022-01-30   \n",
       "96            605.413.3198               vkemp@ferrell.com        2021-07-10   \n",
       "97   +1-632-666-7507x92121                swagner@kane.org        2021-09-18   \n",
       "98  001-869-452-0943x12424  mccarthystephen@horn-green.biz        2021-08-11   \n",
       "99            783.639.1472          colleen91@faulkner.biz        2020-03-11   \n",
       "\n",
       "                              Website  \n",
       "90              https://www.pugh.com/  \n",
       "91       https://www.holt-sparks.com/  \n",
       "92               http://www.ruiz.com/  \n",
       "93                https://travis.net/  \n",
       "94                 https://banks.biz/  \n",
       "95            http://hayes-perez.com/  \n",
       "96         https://novak-allison.com/  \n",
       "97              https://www.ross.com/  \n",
       "98               http://watkins.info/  \n",
       "99  http://www.hatfield-saunders.net/  "
      ]
     },
     "execution_count": 126,
     "metadata": {},
     "output_type": "execute_result"
    }
   ],
   "source": [
    "df.tail(10)"
   ]
  },
  {
   "cell_type": "code",
   "execution_count": 128,
   "id": "d2c615e4-ddbe-440a-a0b9-0ddfd6a6eb99",
   "metadata": {},
   "outputs": [
    {
     "data": {
      "text/plain": [
       "100"
      ]
     },
     "execution_count": 128,
     "metadata": {},
     "output_type": "execute_result"
    }
   ],
   "source": [
    "df[\"Index\"].count()"
   ]
  },
  {
   "cell_type": "code",
   "execution_count": 129,
   "id": "e5f66a6b-f49d-4dab-8890-ef004952d782",
   "metadata": {},
   "outputs": [
    {
     "data": {
      "text/plain": [
       "0                          Chile\n",
       "1                       Djibouti\n",
       "2            Antigua and Barbuda\n",
       "3             Dominican Republic\n",
       "4     Slovakia (Slovak Republic)\n",
       "                 ...            \n",
       "95                        Guyana\n",
       "96                     Sri Lanka\n",
       "97               Solomon Islands\n",
       "98                         Aruba\n",
       "99                      Honduras\n",
       "Name: Country, Length: 100, dtype: object"
      ]
     },
     "execution_count": 129,
     "metadata": {},
     "output_type": "execute_result"
    }
   ],
   "source": [
    "df[\"Country\"]"
   ]
  },
  {
   "cell_type": "code",
   "execution_count": null,
   "id": "7fe1097d-513b-4e0c-b01d-cfa15f9d12b3",
   "metadata": {},
   "outputs": [],
   "source": []
  }
 ],
 "metadata": {
  "kernelspec": {
   "display_name": "Python 3 (ipykernel)",
   "language": "python",
   "name": "python3"
  },
  "language_info": {
   "codemirror_mode": {
    "name": "ipython",
    "version": 3
   },
   "file_extension": ".py",
   "mimetype": "text/x-python",
   "name": "python",
   "nbconvert_exporter": "python",
   "pygments_lexer": "ipython3",
   "version": "3.12.6"
  }
 },
 "nbformat": 4,
 "nbformat_minor": 5
}
