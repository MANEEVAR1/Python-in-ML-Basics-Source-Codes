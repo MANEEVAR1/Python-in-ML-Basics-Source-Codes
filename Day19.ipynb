{
 "cells": [
  {
   "cell_type": "markdown",
   "id": "eb5b0af9-99db-4519-af73-b7fd346aa3b6",
   "metadata": {},
   "source": [
    "# K mean Clustering "
   ]
  },
  {
   "cell_type": "code",
   "execution_count": 1,
   "id": "1136e3fb-970c-44e2-85d1-2c67c8778666",
   "metadata": {},
   "outputs": [],
   "source": [
    "import pandas  as pd\n",
    "df = pd.read_csv(\"Sample DataSet/kmean Customer Data-100.csv\")"
   ]
  },
  {
   "cell_type": "code",
   "execution_count": 2,
   "id": "83b0d919-42d3-4347-b193-b90766220d8a",
   "metadata": {},
   "outputs": [
    {
     "data": {
      "text/html": [
       "<div>\n",
       "<style scoped>\n",
       "    .dataframe tbody tr th:only-of-type {\n",
       "        vertical-align: middle;\n",
       "    }\n",
       "\n",
       "    .dataframe tbody tr th {\n",
       "        vertical-align: top;\n",
       "    }\n",
       "\n",
       "    .dataframe thead th {\n",
       "        text-align: right;\n",
       "    }\n",
       "</style>\n",
       "<table border=\"1\" class=\"dataframe\">\n",
       "  <thead>\n",
       "    <tr style=\"text-align: right;\">\n",
       "      <th></th>\n",
       "      <th>Age</th>\n",
       "      <th>Income</th>\n",
       "      <th>Gender</th>\n",
       "      <th>City</th>\n",
       "    </tr>\n",
       "  </thead>\n",
       "  <tbody>\n",
       "    <tr>\n",
       "      <th>0</th>\n",
       "      <td>56.0</td>\n",
       "      <td>28392.0</td>\n",
       "      <td>Male</td>\n",
       "      <td>Bangalore</td>\n",
       "    </tr>\n",
       "    <tr>\n",
       "      <th>1</th>\n",
       "      <td>NaN</td>\n",
       "      <td>50535.0</td>\n",
       "      <td>Male</td>\n",
       "      <td>Bangalore</td>\n",
       "    </tr>\n",
       "    <tr>\n",
       "      <th>2</th>\n",
       "      <td>32.0</td>\n",
       "      <td>98603.0</td>\n",
       "      <td>Female</td>\n",
       "      <td>Mumbai</td>\n",
       "    </tr>\n",
       "    <tr>\n",
       "      <th>3</th>\n",
       "      <td>25.0</td>\n",
       "      <td>72256.0</td>\n",
       "      <td>Female</td>\n",
       "      <td>Bangalore</td>\n",
       "    </tr>\n",
       "    <tr>\n",
       "      <th>4</th>\n",
       "      <td>38.0</td>\n",
       "      <td>55222.0</td>\n",
       "      <td>Male</td>\n",
       "      <td>Mumbai</td>\n",
       "    </tr>\n",
       "  </tbody>\n",
       "</table>\n",
       "</div>"
      ],
      "text/plain": [
       "    Age   Income  Gender       City\n",
       "0  56.0  28392.0    Male  Bangalore\n",
       "1   NaN  50535.0    Male  Bangalore\n",
       "2  32.0  98603.0  Female     Mumbai\n",
       "3  25.0  72256.0  Female  Bangalore\n",
       "4  38.0  55222.0    Male     Mumbai"
      ]
     },
     "execution_count": 2,
     "metadata": {},
     "output_type": "execute_result"
    }
   ],
   "source": [
    "df.head()"
   ]
  },
  {
   "cell_type": "code",
   "execution_count": 3,
   "id": "1b352bc2-921f-4203-bf81-8e8c1f7363a2",
   "metadata": {},
   "outputs": [
    {
     "data": {
      "text/plain": [
       "Age       5\n",
       "Income    5\n",
       "Gender    0\n",
       "City      0\n",
       "dtype: int64"
      ]
     },
     "execution_count": 3,
     "metadata": {},
     "output_type": "execute_result"
    }
   ],
   "source": [
    "df.isnull().sum()"
   ]
  },
  {
   "cell_type": "code",
   "execution_count": 4,
   "id": "efdf2979-0b80-4b16-888b-17c09ab54f52",
   "metadata": {},
   "outputs": [],
   "source": [
    "df[\"Age\"] = df[\"Age\"].fillna(63)"
   ]
  },
  {
   "cell_type": "code",
   "execution_count": 5,
   "id": "5701a8ca-1a6d-47a2-9d61-4fae6cd913b4",
   "metadata": {},
   "outputs": [],
   "source": [
    "df[\"Income\"] = df[\"Income\"].fillna(df[\"Income\"].mean())"
   ]
  },
  {
   "cell_type": "code",
   "execution_count": 6,
   "id": "b0c5b3ca-4950-48da-b419-9eb55cd6c2d6",
   "metadata": {},
   "outputs": [
    {
     "data": {
      "text/plain": [
       "Age       0\n",
       "Income    0\n",
       "Gender    0\n",
       "City      0\n",
       "dtype: int64"
      ]
     },
     "execution_count": 6,
     "metadata": {},
     "output_type": "execute_result"
    }
   ],
   "source": [
    "df.isnull().sum()"
   ]
  },
  {
   "cell_type": "code",
   "execution_count": 7,
   "id": "8254c4ea-68bf-4cc2-af1c-b7deecc96be1",
   "metadata": {},
   "outputs": [
    {
     "data": {
      "text/html": [
       "<div>\n",
       "<style scoped>\n",
       "    .dataframe tbody tr th:only-of-type {\n",
       "        vertical-align: middle;\n",
       "    }\n",
       "\n",
       "    .dataframe tbody tr th {\n",
       "        vertical-align: top;\n",
       "    }\n",
       "\n",
       "    .dataframe thead th {\n",
       "        text-align: right;\n",
       "    }\n",
       "</style>\n",
       "<table border=\"1\" class=\"dataframe\">\n",
       "  <thead>\n",
       "    <tr style=\"text-align: right;\">\n",
       "      <th></th>\n",
       "      <th>Age</th>\n",
       "      <th>Income</th>\n",
       "      <th>Gender</th>\n",
       "      <th>City</th>\n",
       "    </tr>\n",
       "  </thead>\n",
       "  <tbody>\n",
       "    <tr>\n",
       "      <th>0</th>\n",
       "      <td>56.0</td>\n",
       "      <td>28392.0</td>\n",
       "      <td>Male</td>\n",
       "      <td>Bangalore</td>\n",
       "    </tr>\n",
       "    <tr>\n",
       "      <th>1</th>\n",
       "      <td>63.0</td>\n",
       "      <td>50535.0</td>\n",
       "      <td>Male</td>\n",
       "      <td>Bangalore</td>\n",
       "    </tr>\n",
       "    <tr>\n",
       "      <th>2</th>\n",
       "      <td>32.0</td>\n",
       "      <td>98603.0</td>\n",
       "      <td>Female</td>\n",
       "      <td>Mumbai</td>\n",
       "    </tr>\n",
       "    <tr>\n",
       "      <th>3</th>\n",
       "      <td>25.0</td>\n",
       "      <td>72256.0</td>\n",
       "      <td>Female</td>\n",
       "      <td>Bangalore</td>\n",
       "    </tr>\n",
       "    <tr>\n",
       "      <th>4</th>\n",
       "      <td>38.0</td>\n",
       "      <td>55222.0</td>\n",
       "      <td>Male</td>\n",
       "      <td>Mumbai</td>\n",
       "    </tr>\n",
       "  </tbody>\n",
       "</table>\n",
       "</div>"
      ],
      "text/plain": [
       "    Age   Income  Gender       City\n",
       "0  56.0  28392.0    Male  Bangalore\n",
       "1  63.0  50535.0    Male  Bangalore\n",
       "2  32.0  98603.0  Female     Mumbai\n",
       "3  25.0  72256.0  Female  Bangalore\n",
       "4  38.0  55222.0    Male     Mumbai"
      ]
     },
     "execution_count": 7,
     "metadata": {},
     "output_type": "execute_result"
    }
   ],
   "source": [
    "df.head()"
   ]
  },
  {
   "cell_type": "code",
   "execution_count": 8,
   "id": "0437a866-f996-4eca-98a6-42907c7c4219",
   "metadata": {},
   "outputs": [],
   "source": [
    "from sklearn.preprocessing import LabelEncoder\n",
    "le_Gender = LabelEncoder()\n",
    "le_City = LabelEncoder()\n"
   ]
  },
  {
   "cell_type": "code",
   "execution_count": 9,
   "id": "333ef832-3eff-49a7-888c-a0854ecfc2e1",
   "metadata": {},
   "outputs": [],
   "source": [
    "df[\"Gender\"] = le_Gender.fit_transform(df[\"Gender\"])\n",
    "df[\"City\"] = le_City.fit_transform(df[\"City\"])"
   ]
  },
  {
   "cell_type": "code",
   "execution_count": 10,
   "id": "3bbcad63-93ae-4241-87fc-ca30cbe98519",
   "metadata": {},
   "outputs": [
    {
     "data": {
      "text/html": [
       "<div>\n",
       "<style scoped>\n",
       "    .dataframe tbody tr th:only-of-type {\n",
       "        vertical-align: middle;\n",
       "    }\n",
       "\n",
       "    .dataframe tbody tr th {\n",
       "        vertical-align: top;\n",
       "    }\n",
       "\n",
       "    .dataframe thead th {\n",
       "        text-align: right;\n",
       "    }\n",
       "</style>\n",
       "<table border=\"1\" class=\"dataframe\">\n",
       "  <thead>\n",
       "    <tr style=\"text-align: right;\">\n",
       "      <th></th>\n",
       "      <th>Age</th>\n",
       "      <th>Income</th>\n",
       "      <th>Gender</th>\n",
       "      <th>City</th>\n",
       "    </tr>\n",
       "  </thead>\n",
       "  <tbody>\n",
       "    <tr>\n",
       "      <th>0</th>\n",
       "      <td>56.0</td>\n",
       "      <td>28392.0</td>\n",
       "      <td>1</td>\n",
       "      <td>0</td>\n",
       "    </tr>\n",
       "    <tr>\n",
       "      <th>1</th>\n",
       "      <td>63.0</td>\n",
       "      <td>50535.0</td>\n",
       "      <td>1</td>\n",
       "      <td>0</td>\n",
       "    </tr>\n",
       "    <tr>\n",
       "      <th>2</th>\n",
       "      <td>32.0</td>\n",
       "      <td>98603.0</td>\n",
       "      <td>0</td>\n",
       "      <td>3</td>\n",
       "    </tr>\n",
       "    <tr>\n",
       "      <th>3</th>\n",
       "      <td>25.0</td>\n",
       "      <td>72256.0</td>\n",
       "      <td>0</td>\n",
       "      <td>0</td>\n",
       "    </tr>\n",
       "    <tr>\n",
       "      <th>4</th>\n",
       "      <td>38.0</td>\n",
       "      <td>55222.0</td>\n",
       "      <td>1</td>\n",
       "      <td>3</td>\n",
       "    </tr>\n",
       "  </tbody>\n",
       "</table>\n",
       "</div>"
      ],
      "text/plain": [
       "    Age   Income  Gender  City\n",
       "0  56.0  28392.0       1     0\n",
       "1  63.0  50535.0       1     0\n",
       "2  32.0  98603.0       0     3\n",
       "3  25.0  72256.0       0     0\n",
       "4  38.0  55222.0       1     3"
      ]
     },
     "execution_count": 10,
     "metadata": {},
     "output_type": "execute_result"
    }
   ],
   "source": [
    "df.head()"
   ]
  },
  {
   "cell_type": "code",
   "execution_count": 11,
   "id": "70bf796e-f0e1-489b-96b9-8ac7fe27bb41",
   "metadata": {},
   "outputs": [],
   "source": [
    "# X = df[[\"Age\",\"Income\",\"Gender\",\"City\"]]\n",
    "X = df"
   ]
  },
  {
   "cell_type": "code",
   "execution_count": 12,
   "id": "32dcb01c-74a2-461e-a1d7-47579385607b",
   "metadata": {},
   "outputs": [],
   "source": [
    "from sklearn.cluster import KMeans\n",
    "\n",
    "model = KMeans(n_clusters=3)"
   ]
  },
  {
   "cell_type": "code",
   "execution_count": 13,
   "id": "61786d0d-b258-4237-a331-26b02a4d5f1b",
   "metadata": {},
   "outputs": [],
   "source": [
    "y_kmean = model.fit_predict(X)"
   ]
  },
  {
   "cell_type": "code",
   "execution_count": 14,
   "id": "671321f8-7a8b-4892-967d-402294aef423",
   "metadata": {},
   "outputs": [
    {
     "data": {
      "text/plain": [
       "array([1, 1, 0, 2, 2, 2, 0, 0, 1, 1, 0, 1, 0, 1, 2, 1, 1, 1, 2, 2, 2, 1,\n",
       "       0, 2, 0, 2, 2, 0, 0, 1, 2, 0, 2, 2, 1, 0, 1, 2, 2, 1, 1, 1, 0, 1,\n",
       "       1, 2, 1, 1, 0, 0, 1, 2, 1, 0, 1, 2, 1, 1, 0, 2, 0, 0, 0, 2, 2, 2,\n",
       "       2, 0, 2, 0, 2, 0, 2, 1, 2, 1, 2, 2, 2, 1, 0, 0, 2, 1, 1, 2, 0, 2,\n",
       "       0, 2, 1, 1, 2, 2, 1, 2, 1, 2, 0, 2])"
      ]
     },
     "execution_count": 14,
     "metadata": {},
     "output_type": "execute_result"
    }
   ],
   "source": [
    "y_kmean"
   ]
  },
  {
   "cell_type": "code",
   "execution_count": 15,
   "id": "aa0bd1df-471d-43bf-9b7f-888b7479315d",
   "metadata": {},
   "outputs": [],
   "source": [
    "import matplotlib.pyplot as plt"
   ]
  },
  {
   "cell_type": "code",
   "execution_count": 16,
   "id": "834d71e4-890a-4d94-a03e-4fca4f6fc0e4",
   "metadata": {},
   "outputs": [
    {
     "data": {
      "image/png": "[encoded data removed]",
      "text/plain": [
       "<Figure size 640x480 with 1 Axes>"
      ]
     },
     "metadata": {},
     "output_type": "display_data"
    }
   ],
   "source": [
    "plt.scatter(X[\"Income\"],X[\"Age\"], c = y_kmean)\n",
    "plt.show()"
   ]
  },
  {
   "cell_type": "code",
   "execution_count": 17,
   "id": "c2b70487-b3c8-4ce2-ac4d-b58ffc68db6a",
   "metadata": {},
   "outputs": [],
   "source": [
    "import joblib # model save krne ke liye Use hoti h "
   ]
  },
  {
   "cell_type": "code",
   "execution_count": 18,
   "id": "a1ebe687-e713-4f3d-ac62-ee758877ef63",
   "metadata": {},
   "outputs": [
    {
     "data": {
      "text/plain": [
       "['model_kmean.pkl']"
      ]
     },
     "execution_count": 18,
     "metadata": {},
     "output_type": "execute_result"
    }
   ],
   "source": [
    "joblib.dump(model,\"model_kmean.pkl\")"
   ]
  },
  {
   "cell_type": "code",
   "execution_count": 19,
   "id": "2e523b1f-6bc8-423d-8145-2430e04d7305",
   "metadata": {},
   "outputs": [],
   "source": [
    "load_model = joblib.load(\"model_kmean.pkl\")"
   ]
  },
  {
   "cell_type": "code",
   "execution_count": 32,
   "id": "1fdae556-1b93-493e-aa0f-e1f41e4779cd",
   "metadata": {},
   "outputs": [],
   "source": [
    "new_data = [[30,60000,1,0]] # Age, Incomes, Gender, City"
   ]
  },
  {
   "cell_type": "code",
   "execution_count": 33,
   "id": "24350510-7d25-41aa-a4b9-84f02b7bacc5",
   "metadata": {},
   "outputs": [
    {
     "name": "stderr",
     "output_type": "stream",
     "text": [
      "C:\\Python312\\Lib\\site-packages\\sklearn\\utils\\validation.py:2739: UserWarning: X does not have valid feature names, but KMeans was fitted with feature names\n",
      "  warnings.warn(\n"
     ]
    }
   ],
   "source": [
    "cluster = load_model.predict(new_data)"
   ]
  },
  {
   "cell_type": "code",
   "execution_count": 34,
   "id": "3f65a01a-0ccd-4a5e-9ff5-ac51d667c4f0",
   "metadata": {},
   "outputs": [
    {
     "data": {
      "text/plain": [
       "array([2])"
      ]
     },
     "execution_count": 34,
     "metadata": {},
     "output_type": "execute_result"
    }
   ],
   "source": [
    "cluster"
   ]
  },
  {
   "cell_type": "code",
   "execution_count": null,
   "id": "aa703aa4-6756-45a3-919e-59a3e6cda449",
   "metadata": {},
   "outputs": [],
   "source": []
  }
 ],
 "metadata": {
  "kernelspec": {
   "display_name": "Python 3 (ipykernel)",
   "language": "python",
   "name": "python3"
  },
  "language_info": {
   "codemirror_mode": {
    "name": "ipython",
    "version": 3
   },
   "file_extension": ".py",
   "mimetype": "text/x-python",
   "name": "python",
   "nbconvert_exporter": "python",
   "pygments_lexer": "ipython3",
   "version": "3.12.6"
  }
 },
 "nbformat": 4,
 "nbformat_minor": 5
}
